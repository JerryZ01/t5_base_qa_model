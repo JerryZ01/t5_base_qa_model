{
 "cells": [
  {
   "cell_type": "code",
   "execution_count": 1,
   "id": "fe98eeda-ebc8-4209-8f4f-1846b9196894",
   "metadata": {},
   "outputs": [
    {
     "name": "stderr",
     "output_type": "stream",
     "text": [
      "/root/miniconda3/lib/python3.10/site-packages/torchvision/io/image.py:13: UserWarning: Failed to load image Python extension: '/root/miniconda3/lib/python3.10/site-packages/torchvision/image.so: undefined symbol: _ZN3c1017RegisterOperatorsD1Ev'If you don't plan on using image functionality from `torchvision.io`, you can ignore this warning. Otherwise, there might be something wrong with your environment. Did you have `libjpeg` or `libpng` installed before building `torchvision` from source?\n",
      "  warn(\n"
     ]
    },
    {
     "name": "stdout",
     "output_type": "stream",
     "text": [
      "所有库导入成功!\n",
      "PyTorch版本: 2.6.0+cu124\n",
      "CUDA可用: True\n",
      "GPU设备: NVIDIA GeForce RTX 3090\n"
     ]
    }
   ],
   "source": [
    "import json\n",
    "import pandas as pd\n",
    "import numpy as np\n",
    "import matplotlib.pyplot as plt\n",
    "import seaborn as sns\n",
    "from datasets import Dataset, DatasetDict\n",
    "from transformers import (\n",
    "    T5Tokenizer, \n",
    "    T5ForConditionalGeneration,\n",
    "    TrainingArguments,\n",
    "    Trainer,\n",
    "    DataCollatorForSeq2Seq\n",
    ")\n",
    "import torch\n",
    "from torch.utils.data import DataLoader\n",
    "import evaluate\n",
    "from tqdm import tqdm\n",
    "import warnings\n",
    "warnings.filterwarnings('ignore')\n",
    "\n",
    "# 设置随机种子\n",
    "torch.manual_seed(42)\n",
    "np.random.seed(42)\n",
    "\n",
    "# 设置matplotlib中文显示\n",
    "plt.rcParams['font.sans-serif'] = ['SimHei', 'Arial Unicode MS', 'DejaVu Sans']\n",
    "plt.rcParams['axes.unicode_minus'] = False\n",
    "\n",
    "print(\"所有库导入成功!\")\n",
    "print(f\"PyTorch版本: {torch.__version__}\")\n",
    "print(f\"CUDA可用: {torch.cuda.is_available()}\")\n",
    "if torch.cuda.is_available():\n",
    "    print(f\"GPU设备: {torch.cuda.get_device_name(0)}\")"
   ]
  },
  {
   "cell_type": "code",
   "execution_count": 2,
   "id": "6a3e3ff3-4309-479b-863a-df9366506b59",
   "metadata": {},
   "outputs": [
    {
     "name": "stdout",
     "output_type": "stream",
     "text": [
      "T5QAModel 类定义完成!\n"
     ]
    }
   ],
   "source": [
    "class T5QAModel:\n",
    "    def __init__(self, model_name=\"/root/work/langboat/mengzi-t5-base\", max_length=512):\n",
    "        \"\"\"\n",
    "        初始化T5问答模型\n",
    "        \n",
    "        Args:\n",
    "            model_name: 预训练模型名称\n",
    "            max_length: 最大序列长度\n",
    "        \"\"\"\n",
    "        self.model_name = model_name\n",
    "        self.max_length = max_length\n",
    "        self.device = torch.device('cuda' if torch.cuda.is_available() else 'cpu')\n",
    "        \n",
    "        print(f\"正在加载模型: {model_name}\")\n",
    "        \n",
    "        # 初始化tokenizer和model\n",
    "        self.tokenizer = T5Tokenizer.from_pretrained(model_name)\n",
    "        self.model = T5ForConditionalGeneration.from_pretrained(model_name)\n",
    "        self.model.to(self.device)\n",
    "        \n",
    "        # 初始化评估指标\n",
    "        #self.bleu_metric = evaluate.load(\"bleu\")\n",
    "        \n",
    "        print(f\"✅ 模型已加载到设备: {self.device}\")\n",
    "        print(f\"📊 模型参数数量: {self.model.num_parameters():,}\")\n",
    "\n",
    "    def load_data(self, data_path=None, data_list=None):\n",
    "        \"\"\"\n",
    "        加载数据\n",
    "        \n",
    "        Args:\n",
    "            data_path: 数据文件路径\n",
    "            data_list: 直接传入的数据列表\n",
    "        \"\"\"\n",
    "        if data_path:\n",
    "            with open(data_path, 'r', encoding='utf-8') as f:\n",
    "                data = [json.loads(line) for line in f]\n",
    "        elif data_list:\n",
    "            data = data_list\n",
    "        else:\n",
    "            # 使用示例数据\n",
    "            data = [\n",
    "                {\n",
    "                    \"context\": \"违规分为一般违规扣分，严重违规扣分、出售假冒商品违规扣分淘宝网每年12月31日24:00点会对符合条件的扣分做清零处理详情如下：赔偿提醒:由于出售假冒商品24≤N＜48分,当年的24分不清零,所以会存在第一年和第二年的不计扣分情况。\",\n",
    "                    \"question\": \"淘宝扣分什么时候清零\",\n",
    "                    \"answer\": \"12月31日24:00\",\n",
    "                    \"id\": 203\n",
    "                },\n",
    "                {\n",
    "                    \"context\": \"支付宝转账功能可以实现快速转账，用户可以通过手机号、邮箱或支付宝账号进行转账操作。转账通常在几分钟内完成，部分银行可能需要2小时。\",\n",
    "                    \"question\": \"支付宝转账需要多长时间\",\n",
    "                    \"answer\": \"几分钟内完成，部分银行可能需要2小时\",\n",
    "                    \"id\": 204\n",
    "                },\n",
    "                {\n",
    "                    \"context\": \"天猫超市是阿里巴巴集团旗下的网上购物平台，提供生鲜食品、日用百货等商品。天猫超市承诺当日达或次日达的配送服务。\",\n",
    "                    \"question\": \"天猫超市的配送时间\",\n",
    "                    \"answer\": \"当日达或次日达\",\n",
    "                    \"id\": 205\n",
    "                },\n",
    "                {\n",
    "                    \"context\": \"京东白条是京东推出的一种消费信贷产品，用户可以先消费后付款。白条支持分期付款，最长可分24期，手续费根据分期数不同而变化。\",\n",
    "                    \"question\": \"京东白条最长可以分几期\",\n",
    "                    \"answer\": \"最长可分24期\",\n",
    "                    \"id\": 206\n",
    "                },\n",
    "                {\n",
    "                    \"context\": \"微信支付是腾讯公司推出的移动支付服务，支持线上线下支付、转账、红包等功能。微信支付每日转账限额为20万元。\",\n",
    "                    \"question\": \"微信支付每日转账限额是多少\",\n",
    "                    \"answer\": \"20万元\",\n",
    "                    \"id\": 207\n",
    "                }\n",
    "            ]\n",
    "        \n",
    "        self.raw_data = data\n",
    "        print(f\"✅ 数据加载完成，共 {len(data)} 条记录\")\n",
    "        \n",
    "        # 显示数据样例\n",
    "        print(\"\\n📋 数据样例:\")\n",
    "        for i, item in enumerate(data[:2]):\n",
    "            print(f\"样例 {i+1}:\")\n",
    "            print(f\"  问题: {item['question']}\")\n",
    "            print(f\"  答案: {item['answer']}\")\n",
    "            print(f\"  上下文: {item['context'][:50]}...\")\n",
    "            print()\n",
    "        \n",
    "        return data\n",
    "\n",
    "print(\"T5QAModel 类定义完成!\")"
   ]
  },
  {
   "cell_type": "code",
   "execution_count": 3,
   "id": "403cc5c5-4217-4e42-b999-9c8581f5ef83",
   "metadata": {},
   "outputs": [
    {
     "name": "stderr",
     "output_type": "stream",
     "text": [
      "You are using the default legacy behaviour of the <class 'transformers.models.t5.tokenization_t5.T5Tokenizer'>. This is expected, and simply means that the `legacy` (previous) behavior will be used so nothing changes for you. If you want to use the new behaviour, set `legacy=False`. This should only be set if you understand what it means, and thoroughly read the reason why this was added as explained in https://github.com/huggingface/transformers/pull/24565\n"
     ]
    },
    {
     "name": "stdout",
     "output_type": "stream",
     "text": [
      "正在加载模型: /root/work/langboat/mengzi-t5-base\n",
      "✅ 模型已加载到设备: cuda\n",
      "📊 模型参数数量: 247,577,856\n"
     ]
    }
   ],
   "source": [
    "qa_model = T5QAModel()"
   ]
  },
  {
   "cell_type": "code",
   "execution_count": 4,
   "id": "6892c88e-7780-4cf4-b82e-e8eb085c479e",
   "metadata": {},
   "outputs": [
    {
     "name": "stdout",
     "output_type": "stream",
     "text": [
      "✅ 数据加载完成，共 14520 条记录\n",
      "\n",
      "📋 数据样例:\n",
      "样例 1:\n",
      "  问题: 仙剑奇侠传3第几集上天界\n",
      "  答案: 第35集\n",
      "  上下文: 第35集雪见缓缓张开眼睛，景天又惊又喜之际，长卿和紫萱的仙船驶至，见众人无恙，也十分高兴。众人登船，...\n",
      "\n",
      "样例 2:\n",
      "  问题: 燃气热水器哪个牌子好\n",
      "  答案: 方太\n",
      "  上下文: 选择燃气热水器时，一定要关注这几个问题：1、出水稳定性要好，不能出现忽热忽冷的现象2、快速到达设定的...\n",
      "\n"
     ]
    }
   ],
   "source": [
    "data = qa_model.load_data(\"/root/work/data/train.json\")"
   ]
  },
  {
   "cell_type": "code",
   "execution_count": 5,
   "id": "f1184dd3-049a-4090-8834-0ead1eda3089",
   "metadata": {},
   "outputs": [
    {
     "name": "stdout",
     "output_type": "stream",
     "text": [
      "🔄 开始数据预处理...\n",
      "📊 数据分割:\n",
      "  训练集: 10164 条 (70.0%)\n",
      "  验证集: 2904 条 (20.0%)\n",
      "  测试集: 1452 条 (10.0%)\n",
      "\n",
      "📋 格式化后的样例:\n",
      "输入: question: 2岁宝宝用什么枕头好 context: 用蚕沙枕头吧。蚕沙具有去风降湿，和胃化浊，明目降压的功效，对眼疾，接膜炎，心慌，神经衰弱， 失眠 ，偏头痛，高血压，肝火旺， 消化不良 ， ...\n",
      "目标: 蚕沙枕头\n"
     ]
    }
   ],
   "source": [
    "def preprocess_data(qa_model, train_ratio=0.7, val_ratio=0.2):\n",
    "    \"\"\"\n",
    "    数据预处理和分割\n",
    "    \n",
    "    Args:\n",
    "        qa_model: T5QAModel实例\n",
    "        train_ratio: 训练集比例\n",
    "        val_ratio: 验证集比例\n",
    "    \"\"\"\n",
    "    print(\"🔄 开始数据预处理...\")\n",
    "    \n",
    "    # 数据分割\n",
    "    np.random.shuffle(qa_model.raw_data)\n",
    "    total_len = len(qa_model.raw_data)\n",
    "    train_len = int(total_len * train_ratio)\n",
    "    val_len = int(total_len * val_ratio)\n",
    "    \n",
    "    train_data = qa_model.raw_data[:train_len]\n",
    "    val_data = qa_model.raw_data[train_len:train_len + val_len]\n",
    "    test_data = qa_model.raw_data[train_len + val_len:]\n",
    "    \n",
    "    print(f\"📊 数据分割:\")\n",
    "    print(f\"  训练集: {len(train_data)} 条 ({len(train_data)/total_len*100:.1f}%)\")\n",
    "    print(f\"  验证集: {len(val_data)} 条 ({len(val_data)/total_len*100:.1f}%)\")\n",
    "    print(f\"  测试集: {len(test_data)} 条 ({len(test_data)/total_len*100:.1f}%)\")\n",
    "    \n",
    "    # 转换为Dataset格式\n",
    "    def format_data(data):\n",
    "        formatted = []\n",
    "        for item in data:\n",
    "            # T5格式：question: {question} context: {context}\n",
    "            input_text = f\"question: {item['question']} context: {item['context']}\"\n",
    "            formatted.append({\n",
    "                \"input_text\": input_text,\n",
    "                \"target_text\": item['answer']\n",
    "            })\n",
    "        return formatted\n",
    "    \n",
    "    train_formatted = format_data(train_data)\n",
    "    val_formatted = format_data(val_data)\n",
    "    test_formatted = format_data(test_data)\n",
    "    \n",
    "    # 创建Dataset对象\n",
    "    qa_model.train_dataset = Dataset.from_list(train_formatted)\n",
    "    qa_model.val_dataset = Dataset.from_list(val_formatted)\n",
    "    qa_model.test_dataset = Dataset.from_list(test_formatted)\n",
    "    qa_model.test_data_raw = test_data  # 保存原始测试数据用于后续评估\n",
    "    \n",
    "    # 显示格式化后的样例\n",
    "    print(\"\\n📋 格式化后的样例:\")\n",
    "    print(f\"输入: {train_formatted[0]['input_text'][:100]}...\")\n",
    "    print(f\"目标: {train_formatted[0]['target_text']}\")\n",
    "    \n",
    "    return qa_model.train_dataset, qa_model.val_dataset, qa_model.test_dataset\n",
    "\n",
    "# 执行数据预处理\n",
    "train_dataset, val_dataset, test_dataset = preprocess_data(qa_model)"
   ]
  },
  {
   "cell_type": "code",
   "execution_count": 6,
   "id": "02f5380e-2741-43bf-99b4-cfc8188c4a1d",
   "metadata": {},
   "outputs": [
    {
     "name": "stdout",
     "output_type": "stream",
     "text": [
      "🔄 开始数据Tokenization...\n"
     ]
    },
    {
     "data": {
      "application/vnd.jupyter.widget-view+json": {
       "model_id": "ceb2a6e2e2f14790b9d36e0c289fb2bf",
       "version_major": 2,
       "version_minor": 0
      },
      "text/plain": [
       "Map:   0%|          | 0/10164 [00:00<?, ? examples/s]"
      ]
     },
     "metadata": {},
     "output_type": "display_data"
    },
    {
     "data": {
      "application/vnd.jupyter.widget-view+json": {
       "model_id": "fe88a7c08532437085b84d727e138d40",
       "version_major": 2,
       "version_minor": 0
      },
      "text/plain": [
       "Map:   0%|          | 0/2904 [00:00<?, ? examples/s]"
      ]
     },
     "metadata": {},
     "output_type": "display_data"
    },
    {
     "data": {
      "application/vnd.jupyter.widget-view+json": {
       "model_id": "815dad4f1d154965a511e3e961044a82",
       "version_major": 2,
       "version_minor": 0
      },
      "text/plain": [
       "Map:   0%|          | 0/1452 [00:00<?, ? examples/s]"
      ]
     },
     "metadata": {},
     "output_type": "display_data"
    },
    {
     "name": "stdout",
     "output_type": "stream",
     "text": [
      "✅ 数据tokenization完成\n",
      "📊 Tokenization统计:\n",
      "  输入序列长度: 138\n",
      "  标签序列长度: 4\n"
     ]
    }
   ],
   "source": [
    "def tokenize_data(qa_model):\n",
    "    \"\"\"\n",
    "    对数据进行tokenization\n",
    "    \"\"\"\n",
    "    print(\"🔄 开始数据Tokenization...\")\n",
    "    \n",
    "    def tokenize_function(examples):\n",
    "        # Tokenize inputs\n",
    "        model_inputs = qa_model.tokenizer(\n",
    "            examples[\"input_text\"], \n",
    "            max_length=qa_model.max_length, \n",
    "            truncation=True, \n",
    "            padding=False\n",
    "        )\n",
    "        \n",
    "        # Tokenize targets\n",
    "        with qa_model.tokenizer.as_target_tokenizer():\n",
    "            labels = qa_model.tokenizer(\n",
    "                examples[\"target_text\"], \n",
    "                max_length=128, \n",
    "                truncation=True, \n",
    "                padding=False\n",
    "            )\n",
    "        \n",
    "        model_inputs[\"labels\"] = labels[\"input_ids\"]\n",
    "        return model_inputs\n",
    "    \n",
    "    # 应用tokenization\n",
    "    qa_model.train_dataset = qa_model.train_dataset.map(\n",
    "        tokenize_function, \n",
    "        batched=True, \n",
    "        remove_columns=qa_model.train_dataset.column_names\n",
    "    )\n",
    "    \n",
    "    qa_model.val_dataset = qa_model.val_dataset.map(\n",
    "        tokenize_function, \n",
    "        batched=True, \n",
    "        remove_columns=qa_model.val_dataset.column_names\n",
    "    )\n",
    "    \n",
    "    if len(qa_model.test_dataset) > 0:\n",
    "        qa_model.test_dataset = qa_model.test_dataset.map(\n",
    "            tokenize_function, \n",
    "            batched=True, \n",
    "            remove_columns=qa_model.test_dataset.column_names\n",
    "        )\n",
    "    \n",
    "    print(\"✅ 数据tokenization完成\")\n",
    "    \n",
    "    # 显示tokenization后的信息\n",
    "    print(f\"📊 Tokenization统计:\")\n",
    "    sample = qa_model.train_dataset[0]\n",
    "    print(f\"  输入序列长度: {len(sample['input_ids'])}\")\n",
    "    print(f\"  标签序列长度: {len(sample['labels'])}\")\n",
    "\n",
    "# 执行tokenization\n",
    "tokenize_data(qa_model)"
   ]
  },
  {
   "cell_type": "code",
   "execution_count": 17,
   "id": "08774360-8576-4a85-920a-81dddf8eba54",
   "metadata": {},
   "outputs": [
    {
     "name": "stdout",
     "output_type": "stream",
     "text": [
      "⚙️ 设置训练参数...\n",
      "📋 训练配置:\n",
      "  输出目录: /root/autodl-tmp/t5-qa-finetuned\n",
      "  训练轮数: 3\n",
      "  批次大小: 1\n",
      "  学习率: 5e-05\n",
      "  混合精度: True\n"
     ]
    }
   ],
   "source": [
    "def setup_training_args(output_dir=\"/root/autodl-tmp/t5-qa-finetuned\", epochs=3, batch_size=2, learning_rate=5e-5):\n",
    "    \"\"\"\n",
    "    设置训练参数\n",
    "    \"\"\"\n",
    "    print(\"⚙️ 设置训练参数...\")\n",
    "    \n",
    "    training_args = TrainingArguments(\n",
    "        output_dir=output_dir,\n",
    "        num_train_epochs=epochs,\n",
    "        per_device_train_batch_size=batch_size,\n",
    "        per_device_eval_batch_size=batch_size,\n",
    "        warmup_steps=500,\n",
    "        weight_decay=0.01,\n",
    "        logging_dir=f'{output_dir}/logs',\n",
    "        logging_steps=5,\n",
    "        evaluation_strategy=\"steps\",\n",
    "        eval_steps=5000,\n",
    "        save_strategy=\"steps\",\n",
    "        save_steps=5000,\n",
    "        load_best_model_at_end=True,\n",
    "        metric_for_best_model=\"eval_loss\",\n",
    "        greater_is_better=False,\n",
    "        learning_rate=learning_rate,\n",
    "        fp16=torch.cuda.is_available(),  # 使用混合精度训练\n",
    "        dataloader_pin_memory=False,\n",
    "        remove_unused_columns=True,\n",
    "        report_to=None,  # 禁用wandb等日志记录\n",
    "    )\n",
    "    \n",
    "    print(f\"📋 训练配置:\")\n",
    "    print(f\"  输出目录: {output_dir}\")\n",
    "    print(f\"  训练轮数: {epochs}\")\n",
    "    print(f\"  批次大小: {batch_size}\")\n",
    "    print(f\"  学习率: {learning_rate}\")\n",
    "    print(f\"  混合精度: {torch.cuda.is_available()}\")\n",
    "    \n",
    "    return training_args\n",
    "\n",
    "# 设置训练参数\n",
    "training_args = setup_training_args(epochs=3, batch_size=1, learning_rate=5e-5)\n"
   ]
  },
  {
   "cell_type": "code",
   "execution_count": 18,
   "id": "710ea7ae-9c78-4000-aa04-44b605507569",
   "metadata": {},
   "outputs": [
    {
     "name": "stdout",
     "output_type": "stream",
     "text": [
      "🔄 创建训练器...\n",
      "✅ 训练器创建完成\n"
     ]
    }
   ],
   "source": [
    "def create_trainer(qa_model, training_args):\n",
    "    \"\"\"\n",
    "    创建训练器\n",
    "    \"\"\"\n",
    "    print(\"🔄 创建训练器...\")\n",
    "    \n",
    "    # 数据整理器\n",
    "    data_collator = DataCollatorForSeq2Seq(\n",
    "        tokenizer=qa_model.tokenizer,\n",
    "        model=qa_model.model,\n",
    "        padding=True,\n",
    "        return_tensors=\"pt\"\n",
    "    )\n",
    "    \n",
    "    # 创建Trainer\n",
    "    trainer = Trainer(\n",
    "        model=qa_model.model,\n",
    "        args=training_args,\n",
    "        train_dataset=qa_model.train_dataset,\n",
    "        eval_dataset=qa_model.val_dataset,\n",
    "        tokenizer=qa_model.tokenizer,\n",
    "        data_collator=data_collator,\n",
    "    )\n",
    "    \n",
    "    print(\"✅ 训练器创建完成\")\n",
    "    return trainer\n",
    "\n",
    "# 创建训练器\n",
    "trainer = create_trainer(qa_model, training_args)"
   ]
  },
  {
   "cell_type": "code",
   "execution_count": 19,
   "id": "7fae969e-beec-4a6c-8dd4-5e2629cc6bd5",
   "metadata": {},
   "outputs": [
    {
     "name": "stdout",
     "output_type": "stream",
     "text": [
      "🚀 开始训练模型...\n",
      "注意: 这可能需要几分钟时间，请耐心等待...\n"
     ]
    },
    {
     "data": {
      "text/html": [
       "\n",
       "    <div>\n",
       "      \n",
       "      <progress value='30492' max='30492' style='width:300px; height:20px; vertical-align: middle;'></progress>\n",
       "      [30492/30492 1:16:08, Epoch 3/3]\n",
       "    </div>\n",
       "    <table border=\"1\" class=\"dataframe\">\n",
       "  <thead>\n",
       " <tr style=\"text-align: left;\">\n",
       "      <th>Step</th>\n",
       "      <th>Training Loss</th>\n",
       "      <th>Validation Loss</th>\n",
       "    </tr>\n",
       "  </thead>\n",
       "  <tbody>\n",
       "    <tr>\n",
       "      <td>5000</td>\n",
       "      <td>0.871100</td>\n",
       "      <td>1.214954</td>\n",
       "    </tr>\n",
       "    <tr>\n",
       "      <td>10000</td>\n",
       "      <td>1.625000</td>\n",
       "      <td>0.966134</td>\n",
       "    </tr>\n",
       "    <tr>\n",
       "      <td>15000</td>\n",
       "      <td>0.349100</td>\n",
       "      <td>1.064773</td>\n",
       "    </tr>\n",
       "    <tr>\n",
       "      <td>20000</td>\n",
       "      <td>0.207800</td>\n",
       "      <td>0.971458</td>\n",
       "    </tr>\n",
       "    <tr>\n",
       "      <td>25000</td>\n",
       "      <td>0.067400</td>\n",
       "      <td>1.078134</td>\n",
       "    </tr>\n",
       "    <tr>\n",
       "      <td>30000</td>\n",
       "      <td>0.000400</td>\n",
       "      <td>1.055576</td>\n",
       "    </tr>\n",
       "  </tbody>\n",
       "</table><p>"
      ],
      "text/plain": [
       "<IPython.core.display.HTML object>"
      ]
     },
     "metadata": {},
     "output_type": "display_data"
    },
    {
     "name": "stderr",
     "output_type": "stream",
     "text": [
      "There were missing keys in the checkpoint model loaded: ['encoder.embed_tokens.weight', 'decoder.embed_tokens.weight'].\n"
     ]
    },
    {
     "name": "stdout",
     "output_type": "stream",
     "text": [
      "🎉 训练完成!\n",
      "✅ 模型已保存到 /root/autodl-tmp/t5-qa-finetuned\n",
      "📊 最终训练损失: 0.6353\n"
     ]
    }
   ],
   "source": [
    "print(\"🚀 开始训练模型...\")\n",
    "print(\"注意: 这可能需要几分钟时间，请耐心等待...\")\n",
    "\n",
    "# 训练模型\n",
    "train_result = trainer.train()\n",
    "\n",
    "# 保存模型\n",
    "trainer.save_model()\n",
    "qa_model.tokenizer.save_pretrained(training_args.output_dir)\n",
    "\n",
    "print(\"🎉 训练完成!\")\n",
    "print(f\"✅ 模型已保存到 {training_args.output_dir}\")\n",
    "print(f\"📊 最终训练损失: {train_result.training_loss:.4f}\")"
   ]
  },
  {
   "cell_type": "code",
   "execution_count": 20,
   "id": "4c18dd45-3dcd-4014-b369-aaf345fbb25d",
   "metadata": {},
   "outputs": [
    {
     "name": "stdout",
     "output_type": "stream",
     "text": [
      "📈 绘制训练曲线...\n"
     ]
    },
    {
     "data": {
      "image/png": "[encoded data removed]",
      "text/plain": [
       "<Figure size 1500x500 with 3 Axes>"
      ]
     },
     "metadata": {},
     "output_type": "display_data"
    },
    {
     "name": "stdout",
     "output_type": "stream",
     "text": [
      "✅ 训练曲线已保存为 training_curves.png\n"
     ]
    }
   ],
   "source": [
    "def plot_training_curves(log_history):\n",
    "    \"\"\"\n",
    "    绘制训练曲线\n",
    "    \"\"\"\n",
    "    print(\"📈 绘制训练曲线...\")\n",
    "    \n",
    "    train_losses = []\n",
    "    eval_losses = []\n",
    "    steps = []\n",
    "    \n",
    "    for log in log_history:\n",
    "        if 'loss' in log:\n",
    "            train_losses.append(log['loss'])\n",
    "            steps.append(log['step'])\n",
    "        if 'eval_loss' in log:\n",
    "            eval_losses.append(log['eval_loss'])\n",
    "    \n",
    "    plt.figure(figsize=(15, 5))\n",
    "    \n",
    "    # 训练损失\n",
    "    plt.subplot(1, 3, 1)\n",
    "    plt.plot(steps[:len(train_losses)], train_losses, 'b-', label='Training Loss', linewidth=2)\n",
    "    plt.title('Training Loss', fontsize=14, fontweight='bold')\n",
    "    plt.xlabel('Steps')\n",
    "    plt.ylabel('Loss')\n",
    "    plt.legend()\n",
    "    plt.grid(True, alpha=0.3)\n",
    "    \n",
    "    # 验证损失\n",
    "    if eval_losses:\n",
    "        plt.subplot(1, 3, 2)\n",
    "        eval_steps = [log['step'] for log in log_history if 'eval_loss' in log]\n",
    "        plt.plot(eval_steps, eval_losses, 'r-', label='Validation Loss', linewidth=2)\n",
    "        plt.title('Validation Loss', fontsize=14, fontweight='bold')\n",
    "        plt.xlabel('Steps')\n",
    "        plt.ylabel('Loss')\n",
    "        plt.legend()\n",
    "        plt.grid(True, alpha=0.3)\n",
    "    \n",
    "    # 损失对比\n",
    "    if eval_losses:\n",
    "        plt.subplot(1, 3, 3)\n",
    "        plt.plot(steps[:len(train_losses)], train_losses, 'b-', label='Training Loss', linewidth=2)\n",
    "        plt.plot(eval_steps, eval_losses, 'r-', label='Validation Loss', linewidth=2)\n",
    "        plt.title('Training vs Validation Loss', fontsize=14, fontweight='bold')\n",
    "        plt.xlabel('Steps')\n",
    "        plt.ylabel('Loss')\n",
    "        plt.legend()\n",
    "        plt.grid(True, alpha=0.3)\n",
    "    \n",
    "    plt.tight_layout()\n",
    "    plt.savefig('training_curves.png', dpi=300, bbox_inches='tight')\n",
    "    plt.show()\n",
    "    \n",
    "    print(\"✅ 训练曲线已保存为 training_curves.png\")\n",
    "\n",
    "# 绘制训练曲线\n",
    "plot_training_curves(trainer.state.log_history)"
   ]
  },
  {
   "cell_type": "code",
   "execution_count": 21,
   "id": "7371d523-80a8-4478-bf17-7daa0e9f0a50",
   "metadata": {},
   "outputs": [
    {
     "name": "stdout",
     "output_type": "stream",
     "text": [
      "✅ 预测函数定义完成\n"
     ]
    }
   ],
   "source": [
    "def predict_answer(qa_model, context, question, max_new_tokens=128):\n",
    "    \"\"\"\n",
    "    预测答案\n",
    "    \n",
    "    Args:\n",
    "        qa_model: T5QAModel实例\n",
    "        context: 上下文\n",
    "        question: 问题\n",
    "        max_new_tokens: 最大生成token数\n",
    "        \n",
    "    Returns:\n",
    "        预测的答案\n",
    "    \"\"\"\n",
    "    # 格式化输入\n",
    "    input_text = f\"question: {question} context: {context}\"\n",
    "    \n",
    "    # Tokenize\n",
    "    inputs = qa_model.tokenizer(\n",
    "        input_text,\n",
    "        return_tensors=\"pt\",\n",
    "        max_length=qa_model.max_length,\n",
    "        truncation=True,\n",
    "        padding=True\n",
    "    ).to(qa_model.device)\n",
    "    \n",
    "    # 生成答案\n",
    "    qa_model.model.eval()\n",
    "    with torch.no_grad():\n",
    "        outputs = qa_model.model.generate(\n",
    "            input_ids=inputs[\"input_ids\"],\n",
    "            attention_mask=inputs[\"attention_mask\"],\n",
    "            max_new_tokens=max_new_tokens,\n",
    "            num_beams=4,\n",
    "            early_stopping=True,\n",
    "            do_sample=False,\n",
    "            temperature=1.0,\n",
    "            pad_token_id=qa_model.tokenizer.pad_token_id\n",
    "        )\n",
    "    \n",
    "    # 解码答案\n",
    "    answer = qa_model.tokenizer.decode(outputs[0], skip_special_tokens=True)\n",
    "    return answer\n",
    "\n",
    "print(\"✅ 预测函数定义完成\")"
   ]
  },
  {
   "cell_type": "code",
   "execution_count": 22,
   "id": "93a03542-ac9e-448f-80b0-8a09a0577db6",
   "metadata": {},
   "outputs": [
    {
     "name": "stdout",
     "output_type": "stream",
     "text": [
      "🔮 单个预测测试:\n",
      "问题: 淘宝扣分什么时候清零\n",
      "上下文: 违规分为一般违规扣分，严重违规扣分、出售假冒商品违规扣分淘宝网每年12月31日24:00点会对符合条件的扣分做清零处理\n",
      "\n",
      "预测中...\n",
      "✨ 预测答案: 12月31日\n"
     ]
    }
   ],
   "source": [
    "# 测试单个预测\n",
    "sample_context = \"违规分为一般违规扣分，严重违规扣分、出售假冒商品违规扣分淘宝网每年12月31日24:00点会对符合条件的扣分做清零处理\"\n",
    "sample_question = \"淘宝扣分什么时候清零\"\n",
    "\n",
    "print(\"🔮 单个预测测试:\")\n",
    "print(f\"问题: {sample_question}\")\n",
    "print(f\"上下文: {sample_context}\")\n",
    "print(\"\\n预测中...\")\n",
    "\n",
    "predicted_answer = predict_answer(qa_model, sample_context, sample_question)\n",
    "print(f\"✨ 预测答案: {predicted_answer}\")"
   ]
  },
  {
   "cell_type": "code",
   "execution_count": 24,
   "id": "ba590367-871e-452e-a100-7a0823bf6b45",
   "metadata": {},
   "outputs": [
    {
     "name": "stdout",
     "output_type": "stream",
     "text": [
      "🔮 开始批量预测 (10 个样本)...\n"
     ]
    },
    {
     "name": "stderr",
     "output_type": "stream",
     "text": [
      "预测中:  10%|█         | 1/10 [00:00<00:01,  6.29it/s]"
     ]
    },
    {
     "name": "stdout",
     "output_type": "stream",
     "text": [
      "\n",
      "样本 1:\n",
      "  问题: epub用什么打开\n",
      "  真实答案: WinRAR\n",
      "  预测答案: WinRAR\n",
      "  匹配: ✅\n"
     ]
    },
    {
     "name": "stderr",
     "output_type": "stream",
     "text": [
      "预测中:  20%|██        | 2/10 [00:00<00:01,  7.65it/s]"
     ]
    },
    {
     "name": "stdout",
     "output_type": "stream",
     "text": [
      "\n",
      "样本 2:\n",
      "  问题: 魅族pro7什么时候上市\n",
      "  真实答案: 2017年6月份\n",
      "  预测答案: 2017年6月份\n",
      "  匹配: ✅\n",
      "\n",
      "样本 3:\n",
      "  问题: 粽叶要泡多久\n",
      "  真实答案: 12小时\n",
      "  预测答案: 12小时\n",
      "  匹配: ✅\n"
     ]
    },
    {
     "name": "stderr",
     "output_type": "stream",
     "text": [
      "预测中:  40%|████      | 4/10 [00:00<00:00, 10.12it/s]"
     ]
    },
    {
     "name": "stdout",
     "output_type": "stream",
     "text": [
      "\n",
      "样本 4:\n",
      "  问题: 福鼎属于哪个市\n",
      "  真实答案: 宁德市\n",
      "  预测答案: 宁德市\n",
      "  匹配: ✅\n",
      "\n",
      "样本 5:\n",
      "  问题: 一带一路何时提出\n",
      "  真实答案: 2013年9月和10月\n",
      "  预测答案: 2013年9月和10月\n",
      "  匹配: ✅\n"
     ]
    },
    {
     "name": "stderr",
     "output_type": "stream",
     "text": [
      "预测中:  60%|██████    | 6/10 [00:00<00:00,  8.76it/s]"
     ]
    },
    {
     "name": "stdout",
     "output_type": "stream",
     "text": [
      "\n",
      "样本 6:\n",
      "  问题: 荔枝能放几天\n",
      "  真实答案: 2-3天\n",
      "  预测答案: 2-3天\n",
      "  匹配: ✅\n"
     ]
    },
    {
     "name": "stderr",
     "output_type": "stream",
     "text": [
      "预测中:  70%|███████   | 7/10 [00:00<00:00,  8.46it/s]"
     ]
    },
    {
     "name": "stdout",
     "output_type": "stream",
     "text": [
      "\n",
      "样本 7:\n",
      "  问题: f15航程\n",
      "  真实答案: 2800-3000公里\n",
      "  预测答案: 2800-3000公里\n",
      "  匹配: ✅\n"
     ]
    },
    {
     "name": "stderr",
     "output_type": "stream",
     "text": [
      "预测中:  80%|████████  | 8/10 [00:00<00:00,  8.27it/s]"
     ]
    },
    {
     "name": "stdout",
     "output_type": "stream",
     "text": [
      "\n",
      "样本 8:\n",
      "  问题: 2017二级消防报名时间\n",
      "  真实答案: 3月\n",
      "  预测答案: 2017年3月\n",
      "  匹配: ❌\n"
     ]
    },
    {
     "name": "stderr",
     "output_type": "stream",
     "text": [
      "预测中:  90%|█████████ | 9/10 [00:01<00:00,  8.11it/s]"
     ]
    },
    {
     "name": "stdout",
     "output_type": "stream",
     "text": [
      "\n",
      "样本 9:\n",
      "  问题: au750是什么金\n",
      "  真实答案: 18K金\n",
      "  预测答案: 18K金\n",
      "  匹配: ✅\n"
     ]
    },
    {
     "name": "stderr",
     "output_type": "stream",
     "text": [
      "预测中: 100%|██████████| 10/10 [00:01<00:00,  8.27it/s]"
     ]
    },
    {
     "name": "stdout",
     "output_type": "stream",
     "text": [
      "\n",
      "样本 10:\n",
      "  问题: 成都到九寨沟跟团多少钱\n",
      "  真实答案: 730\n",
      "  预测答案: 730\n",
      "  匹配: ✅\n"
     ]
    },
    {
     "name": "stderr",
     "output_type": "stream",
     "text": [
      "\n"
     ]
    }
   ],
   "source": [
    "def batch_predict_and_evaluate(qa_model):\n",
    "    \"\"\"\n",
    "    批量预测和评估\n",
    "    \"\"\"\n",
    "    if not hasattr(qa_model, 'test_data_raw') or len(qa_model.test_data_raw) == 0:\n",
    "        print(\"⚠️  没有测试数据，使用部分训练数据进行测试...\")\n",
    "        test_data = qa_model.raw_data[:3]\n",
    "    else:\n",
    "        test_data = qa_model.test_data_raw[:10] #这里为了防止输出太多，只预测前10个，可自定义修改\n",
    "    \n",
    "    print(f\"🔮 开始批量预测 ({len(test_data)} 个样本)...\")\n",
    "    \n",
    "    predictions = []\n",
    "    references = []\n",
    "    \n",
    "    for i, item in enumerate(tqdm(test_data, desc=\"预测中\")):\n",
    "        prediction = predict_answer(qa_model, item['context'], item['question'])\n",
    "        predictions.append(prediction)\n",
    "        references.append(item['answer'])\n",
    "        \n",
    "        print(f\"\\n样本 {i+1}:\")\n",
    "        print(f\"  问题: {item['question']}\")\n",
    "        print(f\"  真实答案: {item['answer']}\")\n",
    "        print(f\"  预测答案: {prediction}\")\n",
    "        print(f\"  匹配: {'✅' if prediction.strip() == item['answer'].strip() else '❌'}\")\n",
    "    \n",
    "    return predictions, references, test_data\n",
    "\n",
    "# 执行批量预测\n",
    "predictions, references, test_data = batch_predict_and_evaluate(qa_model)"
   ]
  },
  {
   "cell_type": "code",
   "execution_count": 25,
   "id": "98fa2b59-9230-40ff-8544-41cdc0167506",
   "metadata": {},
   "outputs": [
    {
     "name": "stdout",
     "output_type": "stream",
     "text": [
      "📊 模型性能评估...\n",
      "\n",
      "==================================================\n",
      "📈 模型评估结果\n",
      "==================================================\n",
      "📊 整体BLEU分数: 0.0000\n",
      "📊 平均BLEU分数: 0.0000\n",
      "📊 BLEU分数标准差: 0.0000\n",
      "🎯 精确匹配数量: 9/10\n",
      "🎯 精确匹配率: 90.00%\n",
      "🎯 包含匹配数量: 10/10\n",
      "🎯 包含匹配率: 100.00%\n",
      "==================================================\n"
     ]
    },
    {
     "data": {
      "image/png": "[encoded data removed]",
      "text/plain": [
       "<Figure size 1500x1000 with 4 Axes>"
      ]
     },
     "metadata": {},
     "output_type": "display_data"
    }
   ],
   "source": [
    "def evaluate_predictions(qa_model, predictions, references):\n",
    "    \"\"\"\n",
    "    评估预测结果\n",
    "    \"\"\"\n",
    "    print(\"📊 模型性能评估...\")\n",
    "    \n",
    "    # 计算BLEU分数\n",
    "    bleu_scores = []\n",
    "    for pred, ref in zip(predictions, references):\n",
    "        try:\n",
    "            # 计算单个样本的BLEU分数\n",
    "            bleu = qa_model.bleu_metric.compute(\n",
    "                predictions=[pred.split()],\n",
    "                references=[[ref.split()]]\n",
    "            )\n",
    "            bleu_scores.append(bleu['bleu'])\n",
    "        except:\n",
    "            bleu_scores.append(0.0)\n",
    "    \n",
    "    # 整体BLEU分数\n",
    "    try:\n",
    "        overall_bleu = qa_model.bleu_metric.compute(\n",
    "            predictions=[pred.split() for pred in predictions],\n",
    "            references=[[ref.split()] for ref in references]\n",
    "        )['bleu']\n",
    "    except:\n",
    "        overall_bleu = 0.0\n",
    "    \n",
    "    # 计算其他指标\n",
    "    exact_matches = sum([pred.strip() == ref.strip() for pred, ref in zip(predictions, references)])\n",
    "    exact_match_ratio = exact_matches / len(predictions)\n",
    "    \n",
    "    # 计算包含匹配（预测答案包含真实答案或真实答案包含预测答案）\n",
    "    contains_matches = sum([\n",
    "        ref.strip() in pred.strip() or pred.strip() in ref.strip() \n",
    "        for pred, ref in zip(predictions, references)\n",
    "    ])\n",
    "    contains_match_ratio = contains_matches / len(predictions)\n",
    "    \n",
    "    print(\"\\n\" + \"=\"*50)\n",
    "    print(\"📈 模型评估结果\")\n",
    "    print(\"=\"*50)\n",
    "    print(f\"📊 整体BLEU分数: {overall_bleu:.4f}\")\n",
    "    print(f\"📊 平均BLEU分数: {np.mean(bleu_scores):.4f}\")\n",
    "    print(f\"📊 BLEU分数标准差: {np.std(bleu_scores):.4f}\")\n",
    "    print(f\"🎯 精确匹配数量: {exact_matches}/{len(predictions)}\")\n",
    "    print(f\"🎯 精确匹配率: {exact_match_ratio:.2%}\")\n",
    "    print(f\"🎯 包含匹配数量: {contains_matches}/{len(predictions)}\")\n",
    "    print(f\"🎯 包含匹配率: {contains_match_ratio:.2%}\")\n",
    "    print(\"=\"*50)\n",
    "    \n",
    "    # 绘制评估结果\n",
    "    fig, axes = plt.subplots(2, 2, figsize=(15, 10))\n",
    "    \n",
    "    # BLEU分数分布\n",
    "    axes[0, 0].hist(bleu_scores, bins=10, alpha=0.7, color='skyblue', edgecolor='black')\n",
    "    axes[0, 0].axvline(np.mean(bleu_scores), color='red', linestyle='--', \n",
    "                       label=f'Mean: {np.mean(bleu_scores):.4f}')\n",
    "    axes[0, 0].set_title('BLEU Scores Distribution', fontweight='bold')\n",
    "    axes[0, 0].set_xlabel('BLEU Score')\n",
    "    axes[0, 0].set_ylabel('Frequency')\n",
    "    axes[0, 0].legend()\n",
    "    axes[0, 0].grid(True, alpha=0.3)\n",
    "    \n",
    "    # 匹配率对比\n",
    "    match_types = ['Exact Match', 'Contains Match']\n",
    "    match_ratios = [exact_match_ratio, contains_match_ratio]\n",
    "    colors = ['lightcoral', 'lightgreen']\n",
    "    \n",
    "    bars = axes[0, 1].bar(match_types, match_ratios, color=colors, alpha=0.7, edgecolor='black')\n",
    "    axes[0, 1].set_title('Match Ratios', fontweight='bold')\n",
    "    axes[0, 1].set_ylabel('Ratio')\n",
    "    axes[0, 1].set_ylim(0, 1)\n",
    "    \n",
    "    # 添加数值标签\n",
    "    for bar, ratio in zip(bars, match_ratios):\n",
    "        height = bar.get_height()\n",
    "        axes[0, 1].text(bar.get_x() + bar.get_width()/2., height + 0.01,\n",
    "                        f'{ratio:.2%}', ha='center', va='bottom', fontweight='bold')\n",
    "    \n",
    "    # 答案长度分布\n",
    "    pred_lengths = [len(pred.split()) for pred in predictions]\n",
    "    ref_lengths = [len(ref.split()) for ref in references]\n",
    "    \n",
    "    axes[1, 0].hist(pred_lengths, alpha=0.7, label='Predicted', bins=10, color='lightblue')\n",
    "    axes[1, 0].hist(ref_lengths, alpha=0.7, label='Reference', bins=10, color='orange')\n",
    "    axes[1, 0].set_title('Answer Length Distribution', fontweight='bold')\n",
    "    axes[1, 0].set_xlabel('Number of Words')\n",
    "    axes[1, 0].set_ylabel('Frequency')\n",
    "    axes[1, 0].legend()\n",
    "    axes[1, 0].grid(True, alpha=0.3)\n",
    "    \n",
    "    # 样本比较\n",
    "    sample_indices = range(len(predictions))\n",
    "    axes[1, 1].scatter(sample_indices, [1 if pred.strip() == ref.strip() else 0 \n",
    "                                       for pred, ref in zip(predictions, references)], \n",
    "                       color='red', label='Exact Match', alpha=0.7, s=100)\n",
    "    axes[1, 1].scatter(sample_indices, [1 if (ref.strip() in pred.strip() or pred.strip() in ref.strip()) \n",
    "                                        and pred.strip() != ref.strip() else 0 \n",
    "                                       for pred, ref in zip(predictions, references)], \n",
    "                       color='green', label='Contains Match', alpha=0.7, s=100)\n",
    "    axes[1, 1].set_title('Sample-wise Match Results', fontweight='bold')\n",
    "    axes[1, 1].set_xlabel('Sample Index')\n",
    "    axes[1, 1].set_ylabel('Match (1) / No Match (0)')\n",
    "    axes[1, 1].set_ylim(-0.1, 1.1)\n",
    "    axes[1, 1].legend()\n",
    "    axes[1, 1].grid(True, alpha=0.3)\n",
    "    \n",
    "    plt.tight_layout()\n",
    "    plt.savefig('evaluation_results.png', dpi=300, bbox_inches='tight')\n",
    "    plt.show()\n",
    "    \n",
    "    return {\n",
    "        'overall_bleu': overall_bleu,\n",
    "        'mean_bleu': np.mean(bleu_scores),\n",
    "        'std_bleu': np.std(bleu_scores),\n",
    "        'exact_match_ratio': exact_match_ratio,\n",
    "        'contains_match_ratio': contains_match_ratio,\n",
    "        'predictions': predictions,\n",
    "        'references': references\n",
    "    }\n",
    "\n",
    "# 执行评估\n",
    "evaluation_results = evaluate_predictions(qa_model, predictions, references)"
   ]
  },
  {
   "cell_type": "code",
   "execution_count": 26,
   "id": "bcb5fd56-639a-45cb-84a8-7e46dd35320b",
   "metadata": {},
   "outputs": [
    {
     "name": "stdout",
     "output_type": "stream",
     "text": [
      "💾 预测结果已保存到 predictions.json\n",
      "\n",
      "📋 预测结果预览:\n",
      "    question reference_answer predicted_answer  exact_match\n",
      "   epub用什么打开           WinRAR           WinRAR         True\n",
      "魅族pro7什么时候上市         2017年6月份         2017年6月份         True\n",
      "      粽叶要泡多久             12小时             12小时         True\n",
      "     福鼎属于哪个市              宁德市              宁德市         True\n",
      "    一带一路何时提出      2013年9月和10月      2013年9月和10月         True\n",
      "      荔枝能放几天             2-3天             2-3天         True\n",
      "       f15航程      2800-3000公里      2800-3000公里         True\n",
      "2017二级消防报名时间               3月          2017年3月        False\n",
      "   au750是什么金             18K金             18K金         True\n",
      " 成都到九寨沟跟团多少钱              730              730         True\n"
     ]
    }
   ],
   "source": [
    "def save_predictions(predictions, references, test_data, filename=\"predictions.json\"):\n",
    "    \"\"\"\n",
    "    保存预测结果到JSON文件\n",
    "    \"\"\"\n",
    "    results = []\n",
    "    for i, (pred, ref, data) in enumerate(zip(predictions, references, test_data)):\n",
    "        results.append({\n",
    "            'id': data.get('id', i),\n",
    "            'context': data['context'],\n",
    "            'question': data['question'],\n",
    "            'reference_answer': ref,\n",
    "            'predicted_answer': pred,\n",
    "            'exact_match': pred.strip() == ref.strip(),\n",
    "            'contains_match': ref.strip() in pred.strip() or pred.strip() in ref.strip()\n",
    "        })\n",
    "    \n",
    "    with open(filename, 'w', encoding='utf-8') as f:\n",
    "        json.dump(results, f, ensure_ascii=False, indent=2)\n",
    "    \n",
    "    print(f\"💾 预测结果已保存到 {filename}\")\n",
    "    \n",
    "    # 创建DataFrame用于更好的显示\n",
    "    df = pd.DataFrame(results)\n",
    "    print(\"\\n📋 预测结果预览:\")\n",
    "    display_columns = ['question', 'reference_answer', 'predicted_answer', 'exact_match']\n",
    "    print(df[display_columns].to_string(index=False, max_colwidth=50))\n",
    "    \n",
    "    return results\n",
    "\n",
    "# 保存预测结果\n",
    "results = save_predictions(predictions, references, test_data)"
   ]
  },
  {
   "cell_type": "code",
   "execution_count": 27,
   "id": "cc62c716-e842-4288-baa7-d763779433b2",
   "metadata": {},
   "outputs": [
    {
     "name": "stdout",
     "output_type": "stream",
     "text": [
      "🎯 交互式问答测试\n",
      "==================================================\n",
      "📝 预设测试样例:\n",
      "\n",
      "样例 1:\n",
      "问题: 微信支付每日转账限额是多少\n",
      "上下文: 微信支付是腾讯公司推出的移动支付服务，支持线上线下支付、转账、红包等功能。微信支付每日转账限额为20万元。...\n",
      "✨ 预测答案: 20万元\n",
      "\n",
      "样例 2:\n",
      "问题: 京东白条最长可以分几期\n",
      "上下文: 京东白条是京东推出的一种消费信贷产品，用户可以先消费后付款。白条支持分期付款，最长可分24期，手续费根据分期数不同而变化...\n",
      "✨ 预测答案: 24期\n",
      "\n",
      "样例 3:\n",
      "问题: 淘宝支持多少天无理由退货\n",
      "上下文: 淘宝网是中国最大的网上购物平台，提供服装、电子产品、家居用品等商品。淘宝支持7天无理由退货，买家在收到商品后7天内可以申...\n",
      "✨ 预测答案: 7天\n",
      "\n",
      "==================================================\n",
      "💡 您可以在下面的cell中自定义问题和上下文进行测试\n"
     ]
    }
   ],
   "source": [
    "def interactive_prediction(qa_model):\n",
    "    \"\"\"\n",
    "    交互式预测\n",
    "    \"\"\"\n",
    "    print(\"🎯 交互式问答测试\")\n",
    "    print(\"=\" * 50)\n",
    "    \n",
    "    # 预设一些测试样例\n",
    "    test_cases = [\n",
    "        {\n",
    "            \"context\": \"微信支付是腾讯公司推出的移动支付服务，支持线上线下支付、转账、红包等功能。微信支付每日转账限额为20万元。\",\n",
    "            \"question\": \"微信支付每日转账限额是多少\"\n",
    "        },\n",
    "        {\n",
    "            \"context\": \"京东白条是京东推出的一种消费信贷产品，用户可以先消费后付款。白条支持分期付款，最长可分24期，手续费根据分期数不同而变化。\",\n",
    "            \"question\": \"京东白条最长可以分几期\"\n",
    "        },\n",
    "        {\n",
    "            \"context\": \"淘宝网是中国最大的网上购物平台，提供服装、电子产品、家居用品等商品。淘宝支持7天无理由退货，买家在收到商品后7天内可以申请退货。\",\n",
    "            \"question\": \"淘宝支持多少天无理由退货\"\n",
    "        }\n",
    "    ]\n",
    "    \n",
    "    print(\"📝 预设测试样例:\")\n",
    "    for i, case in enumerate(test_cases):\n",
    "        print(f\"\\n样例 {i+1}:\")\n",
    "        print(f\"问题: {case['question']}\")\n",
    "        print(f\"上下文: {case['context'][:60]}...\")\n",
    "        \n",
    "        # 预测答案\n",
    "        answer = predict_answer(qa_model, case['context'], case['question'])\n",
    "        print(f\"✨ 预测答案: {answer}\")\n",
    "    \n",
    "    print(\"\\n\" + \"=\"*50)\n",
    "    print(\"💡 您可以在下面的cell中自定义问题和上下文进行测试\")\n",
    "\n",
    "# 执行交互式预测\n",
    "interactive_prediction(qa_model)\n"
   ]
  },
  {
   "cell_type": "code",
   "execution_count": 28,
   "id": "3e15eb8f-fc1d-4ff0-8133-ecd136fb9eff",
   "metadata": {},
   "outputs": [
    {
     "name": "stdout",
     "output_type": "stream",
     "text": [
      "🔧 自定义预测测试\n",
      "请修改下面的变量进行测试:\n",
      "\n",
      "问题: 支付宝每月免费提现额度是多少\n",
      "上下文: 支付宝是蚂蚁集团推出的数字支付平台，支持扫码支付、转账、理财等功能。支付宝转账免费，但提现到银行卡每人每月有2万元免费额度。\n",
      "\n",
      "预测中...\n",
      "✨ 预测答案: 2万元\n"
     ]
    }
   ],
   "source": [
    "# 在这里您可以自定义问题和上下文进行测试\n",
    "print(\"🔧 自定义预测测试\")\n",
    "print(\"请修改下面的变量进行测试:\\n\")\n",
    "\n",
    "# 自定义您的测试用例\n",
    "custom_context = \"支付宝是蚂蚁集团推出的数字支付平台，支持扫码支付、转账、理财等功能。支付宝转账免费，但提现到银行卡每人每月有2万元免费额度。\"\n",
    "custom_question = \"支付宝每月免费提现额度是多少\"\n",
    "\n",
    "print(f\"问题: {custom_question}\")\n",
    "print(f\"上下文: {custom_context}\")\n",
    "print(\"\\n预测中...\")\n",
    "\n",
    "# 进行预测\n",
    "custom_answer = predict_answer(qa_model, custom_context, custom_question)\n",
    "print(f\"✨ 预测答案: {custom_answer}\")"
   ]
  },
  {
   "cell_type": "code",
   "execution_count": 29,
   "id": "fcdf9201-2585-4968-8910-31bced4a0d77",
   "metadata": {},
   "outputs": [
    {
     "name": "stdout",
     "output_type": "stream",
     "text": [
      "🔍 模型性能深度分析\n",
      "============================================================\n",
      "📊 错误分析:\n",
      "  正确预测: 9 个\n",
      "  错误预测: 1 个\n",
      "\n",
      "❌ 错误样例分析:\n",
      "  错误 1:\n",
      "    预测: 2017年3月\n",
      "    真实: 3月\n",
      "    类型: mismatch\n",
      "\n",
      "📏 答案长度分析:\n",
      "  预测答案平均长度: 1.00 词\n",
      "  真实答案平均长度: 1.00 词\n",
      "  长度差异: 0.00 词\n",
      "\n",
      "💡 模型改进建议:\n",
      "  🔧 BLEU分数较低，建议:\n",
      "     - 改进数据预处理方法\n",
      "     - 调整生成参数（beam size等）\n",
      "     - 使用更高质量的训练数据\n",
      "\n",
      "✅ 模型整体表现: 优秀 🏆\n"
     ]
    }
   ],
   "source": [
    "def analyze_model_performance(evaluation_results, predictions, references):\n",
    "    \"\"\"\n",
    "    分析模型性能并提供改进建议\n",
    "    \"\"\"\n",
    "    print(\"🔍 模型性能深度分析\")\n",
    "    print(\"=\" * 60)\n",
    "    \n",
    "    # 错误分析\n",
    "    errors = []\n",
    "    correct = []\n",
    "    \n",
    "    for i, (pred, ref) in enumerate(zip(predictions, references)):\n",
    "        if pred.strip() != ref.strip():\n",
    "            errors.append({\n",
    "                'index': i,\n",
    "                'predicted': pred,\n",
    "                'reference': ref,\n",
    "                'error_type': 'mismatch'\n",
    "            })\n",
    "        else:\n",
    "            correct.append({'index': i, 'predicted': pred, 'reference': ref})\n",
    "    \n",
    "    print(f\"📊 错误分析:\")\n",
    "    print(f\"  正确预测: {len(correct)} 个\")\n",
    "    print(f\"  错误预测: {len(errors)} 个\")\n",
    "    \n",
    "    if errors:\n",
    "        print(f\"\\n❌ 错误样例分析:\")\n",
    "        for i, error in enumerate(errors[:3]):  # 显示前3个错误\n",
    "            print(f\"  错误 {i+1}:\")\n",
    "            print(f\"    预测: {error['predicted']}\")\n",
    "            print(f\"    真实: {error['reference']}\")\n",
    "            print(f\"    类型: {error['error_type']}\")\n",
    "    \n",
    "    # 答案长度分析\n",
    "    pred_lengths = [len(pred.split()) for pred in predictions]\n",
    "    ref_lengths = [len(ref.split()) for ref in references]\n",
    "    \n",
    "    print(f\"\\n📏 答案长度分析:\")\n",
    "    print(f\"  预测答案平均长度: {np.mean(pred_lengths):.2f} 词\")\n",
    "    print(f\"  真实答案平均长度: {np.mean(ref_lengths):.2f} 词\")\n",
    "    print(f\"  长度差异: {abs(np.mean(pred_lengths) - np.mean(ref_lengths)):.2f} 词\")\n",
    "    \n",
    "    # 改进建议\n",
    "    print(f\"\\n💡 模型改进建议:\")\n",
    "    \n",
    "    if evaluation_results['exact_match_ratio'] < 0.5:\n",
    "        print(\"  🔧 精确匹配率较低，建议:\")\n",
    "        print(\"     - 增加训练数据量\")\n",
    "        print(\"     - 调整学习率和训练轮数\")\n",
    "        print(\"     - 考虑使用更大的预训练模型\")\n",
    "    \n",
    "    if evaluation_results['mean_bleu'] < 0.3:\n",
    "        print(\"  🔧 BLEU分数较低，建议:\")\n",
    "        print(\"     - 改进数据预处理方法\")\n",
    "        print(\"     - 调整生成参数（beam size等）\")\n",
    "        print(\"     - 使用更高质量的训练数据\")\n",
    "    \n",
    "    if np.mean(pred_lengths) > np.mean(ref_lengths) * 1.5:\n",
    "        print(\"  🔧 预测答案过长，建议:\")\n",
    "        print(\"     - 减少max_new_tokens参数\")\n",
    "        print(\"     - 调整生成策略\")\n",
    "        print(\"     - 在训练数据中强调简洁性\")\n",
    "    \n",
    "    print(f\"\\n✅ 模型整体表现: \", end=\"\")\n",
    "    if evaluation_results['exact_match_ratio'] >= 0.7:\n",
    "        print(\"优秀 🏆\")\n",
    "    elif evaluation_results['exact_match_ratio'] >= 0.5:\n",
    "        print(\"良好 👍\")\n",
    "    elif evaluation_results['exact_match_ratio'] >= 0.3:\n",
    "        print(\"一般 ⚠️\")\n",
    "    else:\n",
    "        print(\"需要改进 🔧\")\n",
    "\n",
    "# 执行性能分析\n",
    "analyze_model_performance(evaluation_results, predictions, references)"
   ]
  },
  {
   "cell_type": "code",
   "execution_count": 30,
   "id": "479a5b93-9b4b-493e-8e9d-08420be24502",
   "metadata": {},
   "outputs": [
    {
     "name": "stdout",
     "output_type": "stream",
     "text": [
      "💾 模型信息已保存到 model_info.json\n",
      "📁 模型文件保存在: /root/autodl-tmp/t5-qa-finetuned\n",
      "\n",
      "📋 模型信息摘要:\n",
      "  模型: /root/work/langboat/mengzi-t5-base\n",
      "  训练轮数: 3\n",
      "  精确匹配率: 90.00%\n",
      "  平均BLEU: 0.0000\n"
     ]
    }
   ],
   "source": [
    "def save_model_info(qa_model, training_args, evaluation_results):\n",
    "    \"\"\"\n",
    "    保存模型信息\n",
    "    \"\"\"\n",
    "    model_info = {\n",
    "        'model_name': qa_model.model_name,\n",
    "        'max_length': qa_model.max_length,\n",
    "        'training_args': {\n",
    "            'epochs': training_args.num_train_epochs,\n",
    "            'batch_size': training_args.per_device_train_batch_size,\n",
    "            'learning_rate': training_args.learning_rate,\n",
    "        },\n",
    "        'performance': {\n",
    "            'exact_match_ratio': evaluation_results['exact_match_ratio'],\n",
    "            'mean_bleu': evaluation_results['mean_bleu'],\n",
    "            'overall_bleu': evaluation_results['overall_bleu'],\n",
    "        },\n",
    "        'timestamp': pd.Timestamp.now().strftime('%Y-%m-%d %H:%M:%S')\n",
    "    }\n",
    "    \n",
    "    with open('model_info.json', 'w', encoding='utf-8') as f:\n",
    "        json.dump(model_info, f, ensure_ascii=False, indent=2)\n",
    "    \n",
    "    print(\"💾 模型信息已保存到 model_info.json\")\n",
    "    print(f\"📁 模型文件保存在: {training_args.output_dir}\")\n",
    "    print(\"\\n📋 模型信息摘要:\")\n",
    "    print(f\"  模型: {model_info['model_name']}\")\n",
    "    print(f\"  训练轮数: {model_info['training_args']['epochs']}\")\n",
    "    print(f\"  精确匹配率: {model_info['performance']['exact_match_ratio']:.2%}\")\n",
    "    print(f\"  平均BLEU: {model_info['performance']['mean_bleu']:.4f}\")\n",
    "\n",
    "save_model_info(qa_model, training_args, evaluation_results)"
   ]
  },
  {
   "cell_type": "code",
   "execution_count": null,
   "id": "5fddd77b-1b36-471b-b2e0-071250287ee8",
   "metadata": {},
   "outputs": [
    {
     "name": "stdout",
     "output_type": "stream",
     "text": [
      "🎉 T5问答模型训练完成!\n",
      "============================================================\n",
      "\n",
      "📊 训练总结:\n",
      "  ✅ 数据加载: 14520 条记录\n",
      "  ✅ 模型训练: 完成 3 轮训练\n",
      "  ✅ 模型评估: 精确匹配率 90.00%\n",
      "  ✅ 预测功能: 可进行实时问答预测\n",
      "\n",
      "📁 生成的文件:\n",
      "  📄 training_curves.png - 训练曲线图\n",
      "  📄 evaluation_results.png - 评估结果图\n",
      "  📄 predictions.json - 预测结果\n",
      "  📄 model_info.json - 模型信息\n",
      "  📁 /root/autodl-tmp/t5-qa-finetuned/ - 训练好的模型文件\n",
      "\n",
      "🔧 如何使用训练好的模型:\n",
      "```python\n",
      "# 方法1: 使用当前模型实例\n",
      "answer = predict_answer(qa_model, context, question)\n",
      "\n",
      "# 方法2: 加载保存的模型\n",
      "tokenizer, model, device = load_trained_model('./t5-qa-finetuned')\n",
      "```\n",
      "\n",
      "💡 改进建议:\n",
      "  🔹 收集更多高质量的问答数据\n",
      "  🔹 尝试不同的超参数组合\n",
      "  🔹 考虑使用更大的T5模型（t5-large）\n",
      "  🔹 实现数据增强技术\n",
      "  🔹 添加后处理规则优化答案格式\n",
      "\n",
      "🎯 下一步可以:\n",
      "  1. 在Cell 16中测试更多自定义问答\n",
      "  2. 调整训练参数重新训练\n",
      "  3. 使用更大的数据集\n",
      "  4. 部署模型到生产环境\n",
      "\n",
      "============================================================\n",
      "🚀 训练流程全部完成! 您现在拥有一个可用的T5问答模型!\n",
      "============================================================\n"
     ]
    }
   ],
   "source": [
    "print(\"🎉 T5问答模型训练完成!\")\n",
    "print(\"=\" * 60)\n",
    "\n",
    "print(\"\\n📊 训练总结:\")\n",
    "print(f\"  ✅ 数据加载: {len(qa_model.raw_data)} 条记录\")\n",
    "print(f\"  ✅ 模型训练: 完成 {training_args.num_train_epochs} 轮训练\")\n",
    "print(f\"  ✅ 模型评估: 精确匹配率 {evaluation_results['exact_match_ratio']:.2%}\")\n",
    "print(f\"  ✅ 预测功能: 可进行实时问答预测\")\n",
    "\n",
    "print(\"\\n📁 生成的文件:\")\n",
    "print(f\"  📄 training_curves.png - 训练曲线图\")\n",
    "print(f\"  📄 evaluation_results.png - 评估结果图\")\n",
    "print(f\"  📄 predictions.json - 预测结果\")\n",
    "print(f\"  📄 model_info.json - 模型信息\")\n",
    "print(f\"  📁 {training_args.output_dir}/ - 训练好的模型文件\")\n",
    "\n",
    "print(\"\\n🔧 如何使用训练好的模型:\")\n",
    "print(\"```python\")\n",
    "print(\"# 方法1: 使用当前模型实例\")\n",
    "print(\"answer = predict_answer(qa_model, context, question)\")\n",
    "print(\"\")\n",
    "print(\"# 方法2: 加载保存的模型\")\n",
    "print(\"tokenizer, model, device = load_trained_model('./t5-qa-finetuned')\")\n",
    "print(\"```\")\n",
    "\n",
    "print(\"\\n💡 改进建议:\")\n",
    "print(\"  🔹 收集更多高质量的问答数据\")\n",
    "print(\"  🔹 尝试不同的超参数组合\")\n",
    "print(\"  🔹 考虑使用更大的T5模型（t5-large）\")\n",
    "print(\"  🔹 实现数据增强技术\")\n",
    "print(\"  🔹 添加后处理规则优化答案格式\")\n",
    "\n",
    "print(\"\\n🎯 下一步可以:\")\n",
    "print(\"  1. 测试更多自定义问答\")\n",
    "print(\"  2. 调整训练参数重新训练\")\n",
    "print(\"  3. 使用更大的数据集\")\n",
    "print(\"  4. 部署模型到生产环境\")\n",
    "\n",
    "print(\"\\n\" + \"=\" * 60)\n",
    "print(\"🚀 训练流程全部完成! 您现在拥有一个可用的T5问答模型!\")\n",
    "print(\"=\" * 60)"
   ]
  }
 ],
 "metadata": {
  "kernelspec": {
   "display_name": "Python 3 (ipykernel)",
   "language": "python",
   "name": "python3"
  },
  "language_info": {
   "codemirror_mode": {
    "name": "ipython",
    "version": 3
   },
   "file_extension": ".py",
   "mimetype": "text/x-python",
   "name": "python",
   "nbconvert_exporter": "python",
   "pygments_lexer": "ipython3",
   "version": "3.10.8"
  }
 },
 "nbformat": 4,
 "nbformat_minor": 5
}
